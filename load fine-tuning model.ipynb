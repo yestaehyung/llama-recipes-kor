{
 "cells": [
  {
   "cell_type": "code",
   "execution_count": 1,
   "id": "8ad3aa47",
   "metadata": {},
   "outputs": [
    {
     "name": "stderr",
     "output_type": "stream",
     "text": [
      "/home/taehyung/anaconda3/envs/llama/lib/python3.10/site-packages/tqdm/auto.py:21: TqdmWarning: IProgress not found. Please update jupyter and ipywidgets. See https://ipywidgets.readthedocs.io/en/stable/user_install.html\n",
      "  from .autonotebook import tqdm as notebook_tqdm\n"
     ]
    },
    {
     "name": "stdout",
     "output_type": "stream",
     "text": [
      "\n",
      "===================================BUG REPORT===================================\n",
      "Welcome to bitsandbytes. For bug reports, please run\n",
      "\n",
      "python -m bitsandbytes\n",
      "\n",
      " and submit this information together with your error trace to: https://github.com/TimDettmers/bitsandbytes/issues\n",
      "================================================================================\n",
      "bin /home/taehyung/anaconda3/envs/llama/lib/python3.10/site-packages/bitsandbytes/libbitsandbytes_cuda117.so\n",
      "CUDA SETUP: CUDA runtime path found: /usr/local/cuda-11.7/lib64/libcudart.so.11.0\n",
      "CUDA SETUP: Highest compute capability among GPUs detected: 8.6\n",
      "CUDA SETUP: Detected CUDA version 117\n",
      "CUDA SETUP: Loading binary /home/taehyung/anaconda3/envs/llama/lib/python3.10/site-packages/bitsandbytes/libbitsandbytes_cuda117.so...\n"
     ]
    },
    {
     "name": "stderr",
     "output_type": "stream",
     "text": [
      "/home/taehyung/anaconda3/envs/llama/lib/python3.10/site-packages/bitsandbytes/cuda_setup/main.py:149: UserWarning: /home/taehyung/anaconda3 did not contain ['libcudart.so', 'libcudart.so.11.0', 'libcudart.so.12.0'] as expected! Searching further paths...\n",
      "  warn(msg)\n",
      "/home/taehyung/anaconda3/envs/llama/lib/python3.10/site-packages/bitsandbytes/cuda_setup/main.py:149: UserWarning: WARNING: The following directories listed in your path were found to be non-existent: {PosixPath('/usr/local/cuda-11.6/lib64')}\n",
      "  warn(msg)\n"
     ]
    }
   ],
   "source": [
    "import torch\n",
    "from transformers import LlamaForCausalLM, LlamaTokenizer"
   ]
  },
  {
   "cell_type": "code",
   "execution_count": 2,
   "id": "9c46cee6",
   "metadata": {
    "scrolled": true
   },
   "outputs": [
    {
     "name": "stderr",
     "output_type": "stream",
     "text": [
      "Loading checkpoint shards: 100%|██████████| 3/3 [00:12<00:00,  4.31s/it]\n",
      "You are using the legacy behaviour of the <class 'transformers.models.llama.tokenization_llama.LlamaTokenizer'>. This means that tokens that come after special tokens will not be properly handled. We recommend you to read the related pull request available at https://github.com/huggingface/transformers/pull/24565\n"
     ]
    }
   ],
   "source": [
    "from peft import PeftModel, PeftConfig\n",
    "\n",
    "\n",
    "peft_model_id = './tmp/fashiongen/13B'\n",
    "\n",
    "config = PeftConfig.from_pretrained(peft_model_id)\n",
    "model = LlamaForCausalLM.from_pretrained(config.base_model_name_or_path, load_in_8bit=True, device_map='auto', torch_dtype=torch.float16)\n",
    "model = PeftModel.from_pretrained(model, peft_model_id)\n",
    "tokenizer = LlamaTokenizer.from_pretrained(config.base_model_name_or_path)"
   ]
  },
  {
   "cell_type": "code",
   "execution_count": 3,
   "id": "c89b86e8",
   "metadata": {},
   "outputs": [
    {
     "name": "stdout",
     "output_type": "stream",
     "text": [
      "\n",
      "Using the given fashion attributes: \"black, graphic, t-shirt\" please provide a detailed description\n",
      "---\n",
      "Description: \n",
      "Short sleeve cotton jersey t-shirt in black. Rib knit crewneck collar. Graphic printed in white at front. Tonal stitching.\n"
     ]
    }
   ],
   "source": [
    "eval_prompt = \"\"\"\n",
    "Using the given fashion attributes: \"black, graphic, t-shirt\" please provide a detailed description\n",
    "---\n",
    "Description: \n",
    "\"\"\"\n",
    "\n",
    "model_input = tokenizer(eval_prompt, return_tensors=\"pt\").to(\"cuda\")\n",
    "\n",
    "model.eval()\n",
    "with torch.no_grad():\n",
    "    print(tokenizer.decode(model.generate(**model_input, max_new_tokens=100)[0], skip_special_tokens=True))"
   ]
  },
  {
   "cell_type": "code",
   "execution_count": 9,
   "id": "13f9e1e6",
   "metadata": {},
   "outputs": [
    {
     "data": {
      "text/html": [
       "<div>\n",
       "<style scoped>\n",
       "    .dataframe tbody tr th:only-of-type {\n",
       "        vertical-align: middle;\n",
       "    }\n",
       "\n",
       "    .dataframe tbody tr th {\n",
       "        vertical-align: top;\n",
       "    }\n",
       "\n",
       "    .dataframe thead th {\n",
       "        text-align: right;\n",
       "    }\n",
       "</style>\n",
       "<table border=\"1\" class=\"dataframe\">\n",
       "  <thead>\n",
       "    <tr style=\"text-align: right;\">\n",
       "      <th></th>\n",
       "      <th>Unnamed: 0</th>\n",
       "      <th>id</th>\n",
       "      <th>attribute</th>\n",
       "      <th>text</th>\n",
       "    </tr>\n",
       "  </thead>\n",
       "  <tbody>\n",
       "    <tr>\n",
       "      <th>0</th>\n",
       "      <td>0</td>\n",
       "      <td>0</td>\n",
       "      <td>faded, jacket, blue</td>\n",
       "      <td>Denim-like jogg jacket in blue. Fading and whi...</td>\n",
       "    </tr>\n",
       "    <tr>\n",
       "      <th>1</th>\n",
       "      <td>1</td>\n",
       "      <td>1</td>\n",
       "      <td>jeans, light, distressed, slim, grey</td>\n",
       "      <td>Slim-fit jeans in light grey. Distressing and ...</td>\n",
       "    </tr>\n",
       "    <tr>\n",
       "      <th>2</th>\n",
       "      <td>2</td>\n",
       "      <td>2</td>\n",
       "      <td>leather, jacket, suede, black, paneled</td>\n",
       "      <td>Long sleeve suede jacket in black. Tonal grain...</td>\n",
       "    </tr>\n",
       "    <tr>\n",
       "      <th>3</th>\n",
       "      <td>3</td>\n",
       "      <td>3</td>\n",
       "      <td>jeans, cool, distressed, blue, guy</td>\n",
       "      <td>Slim-fit jeans in dark blue. Distressing throu...</td>\n",
       "    </tr>\n",
       "    <tr>\n",
       "      <th>4</th>\n",
       "      <td>4</td>\n",
       "      <td>4</td>\n",
       "      <td>navy, classic, trousers</td>\n",
       "      <td>Slim-fit trousers in navy. Four-pocket styling...</td>\n",
       "    </tr>\n",
       "    <tr>\n",
       "      <th>...</th>\n",
       "      <td>...</td>\n",
       "      <td>...</td>\n",
       "      <td>...</td>\n",
       "      <td>...</td>\n",
       "    </tr>\n",
       "    <tr>\n",
       "      <th>7514</th>\n",
       "      <td>7514</td>\n",
       "      <td>7514</td>\n",
       "      <td>car, beige, coat</td>\n",
       "      <td>Long sleeve cotton gabardine coat in beige and...</td>\n",
       "    </tr>\n",
       "    <tr>\n",
       "      <th>7515</th>\n",
       "      <td>7515</td>\n",
       "      <td>7515</td>\n",
       "      <td>navy, coat</td>\n",
       "      <td>Long sleeve waterproof rubberized cotton rainc...</td>\n",
       "    </tr>\n",
       "    <tr>\n",
       "      <th>7516</th>\n",
       "      <td>7516</td>\n",
       "      <td>7516</td>\n",
       "      <td>leather, platform, double, black, espadrilles</td>\n",
       "      <td>Grained leather espadrilles in black. Round to...</td>\n",
       "    </tr>\n",
       "    <tr>\n",
       "      <th>7517</th>\n",
       "      <td>7517</td>\n",
       "      <td>7517</td>\n",
       "      <td>denim, black, jeans</td>\n",
       "      <td>Slim-fit jeans in black. High-rise. Five-pocke...</td>\n",
       "    </tr>\n",
       "    <tr>\n",
       "      <th>7518</th>\n",
       "      <td>7518</td>\n",
       "      <td>7518</td>\n",
       "      <td>collar, pointed, white, shirt</td>\n",
       "      <td>Long sleeve cotton poplin shirt in 'optic' whi...</td>\n",
       "    </tr>\n",
       "  </tbody>\n",
       "</table>\n",
       "<p>7519 rows × 4 columns</p>\n",
       "</div>"
      ],
      "text/plain": [
       "      Unnamed: 0    id                                      attribute  \\\n",
       "0              0     0                            faded, jacket, blue   \n",
       "1              1     1           jeans, light, distressed, slim, grey   \n",
       "2              2     2         leather, jacket, suede, black, paneled   \n",
       "3              3     3             jeans, cool, distressed, blue, guy   \n",
       "4              4     4                        navy, classic, trousers   \n",
       "...          ...   ...                                            ...   \n",
       "7514        7514  7514                               car, beige, coat   \n",
       "7515        7515  7515                                     navy, coat   \n",
       "7516        7516  7516  leather, platform, double, black, espadrilles   \n",
       "7517        7517  7517                            denim, black, jeans   \n",
       "7518        7518  7518                  collar, pointed, white, shirt   \n",
       "\n",
       "                                                   text  \n",
       "0     Denim-like jogg jacket in blue. Fading and whi...  \n",
       "1     Slim-fit jeans in light grey. Distressing and ...  \n",
       "2     Long sleeve suede jacket in black. Tonal grain...  \n",
       "3     Slim-fit jeans in dark blue. Distressing throu...  \n",
       "4     Slim-fit trousers in navy. Four-pocket styling...  \n",
       "...                                                 ...  \n",
       "7514  Long sleeve cotton gabardine coat in beige and...  \n",
       "7515  Long sleeve waterproof rubberized cotton rainc...  \n",
       "7516  Grained leather espadrilles in black. Round to...  \n",
       "7517  Slim-fit jeans in black. High-rise. Five-pocke...  \n",
       "7518  Long sleeve cotton poplin shirt in 'optic' whi...  \n",
       "\n",
       "[7519 rows x 4 columns]"
      ]
     },
     "execution_count": 9,
     "metadata": {},
     "output_type": "execute_result"
    }
   ],
   "source": [
    "import pandas as pd\n",
    "\n",
    "val_data = pd.read_csv('./val.csv')\n",
    "\n",
    "prompt = (\n",
    "    f\"Using the given fashion attributes: {{attribute}}, please provide a detailed description\\n---\\nDescription: \"\n",
    ")\n",
    "\n",
    "\n",
    "val_data"
   ]
  },
  {
   "cell_type": "code",
   "execution_count": 13,
   "id": "965e6663",
   "metadata": {},
   "outputs": [],
   "source": [
    "def make_prompt(sample):\n",
    "    return prompt.format(attribute=sample)\n"
   ]
  },
  {
   "cell_type": "code",
   "execution_count": 16,
   "id": "a0fc81be",
   "metadata": {},
   "outputs": [
    {
     "name": "stderr",
     "output_type": "stream",
     "text": [
      "100%|██████████| 7519/7519 [00:03<00:00, 1884.66it/s]\n"
     ]
    }
   ],
   "source": [
    "from tqdm import tqdm\n",
    "\n",
    "val_prompt = list(map(make_prompt, list(val_data['attribute'])))\n",
    "\n",
    "model_inputs = [0 for i in range(len(val_prompt))]\n",
    "\n",
    "\n",
    "for i in tqdm(range(len(val_prompt))):\n",
    "    model_input = tokenizer(val_prompt[i], return_tensors='pt').to('cuda')\n",
    "    \n",
    "    model_inputs[i]=model_input"
   ]
  },
  {
   "cell_type": "code",
   "execution_count": null,
   "id": "51dd98a3",
   "metadata": {},
   "outputs": [],
   "source": [
    "gen_list = [0 for i in  range(len(model_inputs))]"
   ]
  },
  {
   "cell_type": "code",
   "execution_count": null,
   "id": "c8f228c6",
   "metadata": {},
   "outputs": [
    {
     "name": "stderr",
     "output_type": "stream",
     "text": [
      " 43%|████▎     | 3270/7519 [17:22<6:47:27,  5.75s/it] "
     ]
    }
   ],
   "source": [
    "model.eval()\n",
    "with torch.no_grad():\n",
    "    for i in tqdm(range(len(model_inputs))):\n",
    "        if gen_list[i] != 0:\n",
    "            continue\n",
    "        else:\n",
    "            gen = tokenizer.decode(model.generate(**model_inputs[i], max_new_tokens=100)[0], skip_special_tokens=True).split(':')[-1].strip()\n",
    "            gen_list[i] = gen\n"
   ]
  },
  {
   "cell_type": "code",
   "execution_count": 42,
   "id": "597b1639",
   "metadata": {},
   "outputs": [
    {
     "name": "stdout",
     "output_type": "stream",
     "text": [
      "3369\n",
      "3369\n"
     ]
    }
   ],
   "source": [
    "gen_3369 = [i for i in gen_list if i != 0]\n",
    "real_data = list(val_data['text'][:3369])\n",
    "\n",
    "print(len(gen_3369))\n",
    "print(len(real_data))"
   ]
  },
  {
   "cell_type": "code",
   "execution_count": 46,
   "id": "d8b55d45",
   "metadata": {},
   "outputs": [
    {
     "name": "stderr",
     "output_type": "stream",
     "text": [
      "100%|██████████| 3369/3369 [01:14<00:00, 44.95it/s]\n"
     ]
    }
   ],
   "source": [
    "from transformers import AutoTokenizer, BertModel\n",
    "import torch\n",
    "import numpy as np\n",
    "\n",
    "tokenizer = AutoTokenizer.from_pretrained(\"bert-base-uncased\")\n",
    "model = BertModel.from_pretrained(\"bert-base-uncased\")\n",
    "\n",
    "\n",
    "gen_embedding = np.zeros((3369,768))\n",
    "\n",
    "for i in tqdm(range(3369)):\n",
    "    text = gen_3369[i]    \n",
    "    inputs = tokenizer(text, return_tensors=\"pt\")\n",
    "    outputs = model(**inputs)\n",
    "    vector = outputs.pooler_output\n",
    "    \n",
    "    gen_embedding[i] = vector.detach().numpy()"
   ]
  },
  {
   "cell_type": "code",
   "execution_count": 47,
   "id": "44017f3c",
   "metadata": {},
   "outputs": [
    {
     "name": "stderr",
     "output_type": "stream",
     "text": [
      "100%|██████████| 3369/3369 [01:19<00:00, 42.40it/s]\n"
     ]
    }
   ],
   "source": [
    "real_embedding = np.zeros((3369, 768))\n",
    "\n",
    "for i in tqdm(range(3369)):\n",
    "    text = real_data[i]    \n",
    "    inputs = tokenizer(text, return_tensors=\"pt\")\n",
    "    outputs = model(**inputs)\n",
    "    vector = outputs.pooler_output\n",
    "    \n",
    "    real_embedding[i] = vector.detach().numpy()"
   ]
  },
  {
   "cell_type": "code",
   "execution_count": 67,
   "id": "5d17cc57",
   "metadata": {},
   "outputs": [
    {
     "name": "stderr",
     "output_type": "stream",
     "text": [
      "100%|██████████| 3369/3369 [00:00<00:00, 3448.25it/s]\n"
     ]
    }
   ],
   "source": [
    "from sklearn.metrics.pairwise import cosine_similarity\n",
    "\n",
    "\n",
    "results = [0 for i in range(3369)]\n",
    "\n",
    "for i in tqdm(range(3369)):\n",
    "    sim_result = cosine_similarity(gen_embedding[i].reshape(1,-1), real_embedding[i].reshape(1,-1))[0][0]\n",
    "    results[i] = sim_result"
   ]
  },
  {
   "cell_type": "code",
   "execution_count": 74,
   "id": "02e024e1",
   "metadata": {},
   "outputs": [
    {
     "data": {
      "text/plain": [
       "['Long sleeve cotton twill jacket in blue. Fading throughout. Spread collar. Button closure at front. Flap pockets at chest. Single-button barrel cuffs. Buttoned cinch tabs at back hem. Buttoned cinch tabs at cuffs. Tonal stitching.',\n",
       " '12 oz. slim-fit jeans in light grey. Distressing throughout. Five-pocket styling. Leather logo patch at back waistband. Zip-fly. Tonal stitching. Approx. 7\" leg opening.',\n",
       " 'Long sleeve suede jacket in black. Notched lapel collar. Off-set zip closure at front. Zippered pockets at waist. Zippered sleeve cuffs. Fully lined. Tonal stitching.',\n",
       " '12 oz. Japanese selvedge denim jeans in blue. Fading, distressing, and whiskering throughout. Five-pocket styling. Leather logo patch at back waistband. Zip-fly. Contrast stitching in tan. Approx. 8.5\" leg opening.',\n",
       " '10 oz. cotton twill trousers in navy. Four-pocket styling. Zip-fly. Tonal stitching.',\n",
       " 'Long sleeve cotton shirt in red featuring plaid pattern in tones of red, black, and white throughout. Spread collar. Button closure at front. Patch pocket at chest. Single-button barrel cuffs. Tonal stitching.',\n",
       " 'Sleeveless leather dress in black. Crewneck collar. Zip closure at back. Fully lined. Tonal stitching.',\n",
       " \"3-piece wool suit in navy. Notched lapel collar. Button closure at front. Patch pockets at body. Four-button surgeon's cuffs. Central vent at back hem. Fully lined. Tonal stitching.\",\n",
       " 'Long sleeve cotton shirt in navy. Check pattern in tones of blue, white, and red throughout. Spread collar. Button closure at front. Patch pocket at chest. Single-button barrel cuffs. Tonal stitching.',\n",
       " 'Long sleeve knit sweater in navy. Ribbed crewneck collar, sleeve cuffs, and hem. Signature anchor graphic knit in white at front. Tonal stitching.']"
      ]
     },
     "execution_count": 74,
     "metadata": {},
     "output_type": "execute_result"
    }
   ],
   "source": [
    "gen_3369[:10]"
   ]
  },
  {
   "cell_type": "code",
   "execution_count": 76,
   "id": "07d9a7cc",
   "metadata": {},
   "outputs": [
    {
     "data": {
      "text/plain": [
       "['Denim-like jogg jacket in blue. Fading and whiskering throughout. Spread collar. Copper tone button closures at front. Flap pockets at chest with metallic logo plaque. Seam pockets at sides. Cinch tabs at back waistband. Single button sleeve cuffs. Tone on tone stitching.',\n",
       " 'Slim-fit jeans in light grey. Distressing and fading throughout. Seven-pocket styling. Textured black leather logo patch at back waist. Tonal stitching. Red logo tab at button-fly.',\n",
       " 'Long sleeve suede jacket in black. Tonal grained leather paneling throughout. Stand collar. Zip closure and zippered welt pockets at front. Zippered vents at back hem. Welt pockets at interior. Fully lined. Tonal stitching. Zippered expansion panels at sleeve cuffs.',\n",
       " 'Slim-fit jeans in dark blue. Distressing throughout. Fading at front. Textured black leather logo patch at back waist. Silver-tone metal logo plaque at back pocket. Contrast stitching in tan. Red logo tab at button-fly.',\n",
       " 'Slim-fit trousers in navy. Four-pocket styling. Unfinished ankle cuffs. Tonal stitching. Button-fly.',\n",
       " 'Long sleeve shirt in red, white, and black plaid. Fading throughout. Spread collar. Contrasting texture elbow patches in beige. Single-button barrel cuffs. Tonal stitching.',\n",
       " 'Sleeveless dress in black. Square neck. Tonal leather panels at front and back. Fully lined. Tonal stitching.',\n",
       " \"Long sleeve structured blazer in navy blue. Notched lapel collar with buttonhole. Two-button closure, breast pocket and flap pockets at front. Padded shoulders. Double vents at back hem. Welt pockets at interior. Fully lined. Tonal stitching. Four-button surgeon's cuffs.<br><br>Slim-fit pleated trousers in navy blue. Four-pocket styling. Cinch belt at back yoke. Serged ankle cuffs. Tonal stitching\",\n",
       " \"Long sleeve oxford shirt in white and navy blue. Alternating anchor and shepherd's check print throughout. Spread button-down collar. Button closure and patch pocket at front. Logo patch at front hem. Tonal stitching. Single-button barrel cuffs with buttoned sleeve placket.\",\n",
       " 'Long sleeve wool sweater in navy. Anchor pattern embroidered in red throughout. Ribbed knit crewneck collar, sleeve cuffs, and hem. Signature tri-color tab at back collar. Two-button placket at sleeve cuffs and side seams. Tonal stitching.']"
      ]
     },
     "execution_count": 76,
     "metadata": {},
     "output_type": "execute_result"
    }
   ],
   "source": [
    "real_data[:10]"
   ]
  }
 ],
 "metadata": {
  "kernelspec": {
   "display_name": "llama",
   "language": "python",
   "name": "llama"
  },
  "language_info": {
   "codemirror_mode": {
    "name": "ipython",
    "version": 3
   },
   "file_extension": ".py",
   "mimetype": "text/x-python",
   "name": "python",
   "nbconvert_exporter": "python",
   "pygments_lexer": "ipython3",
   "version": "3.10.9"
  }
 },
 "nbformat": 4,
 "nbformat_minor": 5
}
